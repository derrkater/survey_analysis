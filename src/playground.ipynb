{
 "cells": [
  {
   "cell_type": "code",
   "execution_count": 1,
   "metadata": {},
   "outputs": [],
   "source": [
    "from analyze_data import load_data\n",
    "\n",
    "data = load_data()"
   ]
  },
  {
   "cell_type": "code",
   "execution_count": 2,
   "metadata": {},
   "outputs": [
    {
     "name": "stdout",
     "output_type": "stream",
     "text": [
      "c-t 56\n",
      "t-c 51\n",
      "t-ch 53\n",
      "ch-t 53\n"
     ]
    }
   ],
   "source": [
    "for group, d in data.items():\n",
    "    print(group, len(d))"
   ]
  },
  {
   "cell_type": "code",
   "execution_count": 3,
   "metadata": {},
   "outputs": [
    {
     "name": "stdout",
     "output_type": "stream",
     "text": [
      "c-t\n",
      "62.52 \t {'rok': 1996, 'plec': 'Kobieta', 'wyksztalcenie': 'średnie', 'q1': -2, 'q2': 1, 'total_time': 62.52, 't1': 16.51, 't2': 24.45, 'misc': 21.56}\n",
      "67.94 \t {'rok': 1996, 'plec': 'Mężczyzna', 'wyksztalcenie': 'wyższe (licencjat, inżynier, magister)', 'q1': -1, 'q2': 1, 'total_time': 67.94, 't1': 24.52, 't2': 24.97, 'misc': 18.45}\n",
      "75.91 \t {'rok': 1995, 'plec': 'Kobieta', 'wyksztalcenie': 'wyższe (licencjat, inżynier, magister)', 'q1': -1, 'q2': -1, 'total_time': 75.91, 't1': 30.86, 't2': 26.8, 'misc': 18.25}\n",
      "81.34 \t {'rok': 1982, 'plec': 'Kobieta', 'wyksztalcenie': 'wyższe (licencjat, inżynier, magister)', 'q1': -2, 'q2': -2, 'total_time': 81.34, 't1': 29.52, 't2': 29.46, 'misc': 22.36}\n",
      "81.97 \t {'rok': 1994, 'plec': 'Mężczyzna', 'wyksztalcenie': 'wyższe (licencjat, inżynier, magister)', 'q1': -2, 'q2': 0, 'total_time': 81.97, 't1': 26.84, 't2': 31.76, 'misc': 23.37}\n",
      "82.47 \t {'rok': 1994, 'plec': 'Kobieta', 'wyksztalcenie': 'wyższe (licencjat, inżynier, magister)', 'q1': -2, 'q2': 0, 'total_time': 82.47, 't1': 24.93, 't2': 26.4, 'misc': 31.14}\n",
      "87.84 \t {'rok': 1995, 'plec': 'Kobieta', 'wyksztalcenie': 'wyższe (licencjat, inżynier, magister)', 'q1': 0, 'q2': 1, 'total_time': 87.84, 't1': 28.24, 't2': 29.08, 'misc': 30.52}\n",
      "93.61 \t {'rok': 1989, 'plec': 'Kobieta', 'wyksztalcenie': 'wyższe (licencjat, inżynier, magister)', 'q1': -2, 'q2': -2, 'total_time': 93.61, 't1': 34.61, 't2': 33.34, 'misc': 25.66}\n",
      "94.7 \t {'rok': 1996, 'plec': 'Kobieta', 'wyksztalcenie': 'średnie', 'q1': -1, 'q2': -1, 'total_time': 94.7, 't1': 36.66, 't2': 30.07, 'misc': 27.97}\n",
      "96.08 \t {'rok': 1993, 'plec': 'Kobieta', 'wyksztalcenie': 'wyższe (licencjat, inżynier, magister)', 'q1': -1, 'q2': -1, 'total_time': 96.08, 't1': 30.65, 't2': 37.8, 'misc': 27.63}\n",
      "98.62 \t {'rok': 1997, 'plec': 'Kobieta', 'wyksztalcenie': 'średnie', 'q1': 0, 'q2': 1, 'total_time': 98.62, 't1': 36.07, 't2': 31.59, 'misc': 30.96}\n",
      "99.09 \t {'rok': 1996, 'plec': 'Kobieta', 'wyksztalcenie': 'średnie', 'q1': 0, 'q2': 1, 'total_time': 99.09, 't1': 34.45, 't2': 35.81, 'misc': 28.83}\n",
      "99.32 \t {'rok': 1994, 'plec': 'Kobieta', 'wyksztalcenie': 'wyższe (licencjat, inżynier, magister)', 'q1': -2, 'q2': 0, 'total_time': 99.32, 't1': 25.03, 't2': 47.88, 'misc': 26.41}\n",
      "106.6 \t {'rok': 1995, 'plec': 'Kobieta', 'wyksztalcenie': 'wyższe (licencjat, inżynier, magister)', 'q1': 0, 'q2': 0, 'total_time': 106.6, 't1': 40.41, 't2': 44.61, 'misc': 21.58}\n",
      "106.71 \t {'rok': 1995, 'plec': 'Kobieta', 'wyksztalcenie': 'wyższe (licencjat, inżynier, magister)', 'q1': 0, 'q2': 1, 'total_time': 106.71, 't1': 48.46, 't2': 35.81, 'misc': 22.44}\n",
      "107.75 \t {'rok': 1996, 'plec': 'Kobieta', 'wyksztalcenie': 'średnie', 'q1': -1, 'q2': 1, 'total_time': 107.75, 't1': 26.64, 't2': 58.49, 'misc': 22.62}\n",
      "108.76 \t {'rok': 1994, 'plec': 'Kobieta', 'wyksztalcenie': 'wyższe (licencjat, inżynier, magister)', 'q1': 0, 'q2': 0, 'total_time': 108.76, 't1': 23.94, 't2': 61.45, 'misc': 23.37}\n",
      "109.29 \t {'rok': 1995, 'plec': 'Kobieta', 'wyksztalcenie': 'wyższe (licencjat, inżynier, magister)', 'q1': -1, 'q2': -1, 'total_time': 109.29, 't1': 39.42, 't2': 51.99, 'misc': 17.88}\n",
      "109.89 \t {'rok': 1995, 'plec': 'Kobieta', 'wyksztalcenie': 'wyższe (licencjat, inżynier, magister)', 'q1': 1, 'q2': 1, 'total_time': 109.89, 't1': 37.8, 't2': 39.06, 'misc': 33.03}\n",
      "110.05 \t {'rok': 1993, 'plec': 'Mężczyzna', 'wyksztalcenie': 'wyższe (licencjat, inżynier, magister)', 'q1': -1, 'q2': 1, 'total_time': 110.05, 't1': 48.19, 't2': 38.55, 'misc': 23.31}\n",
      "110.96 \t {'rok': 1997, 'plec': 'Kobieta', 'wyksztalcenie': 'wyższe (licencjat, inżynier, magister)', 'q1': 1, 'q2': 0, 'total_time': 110.96, 't1': 50.75, 't2': 39.78, 'misc': 20.43}\n",
      "115.49 \t {'rok': 1994, 'plec': 'Kobieta', 'wyksztalcenie': 'wyższe (licencjat, inżynier, magister)', 'q1': 0, 'q2': 1, 'total_time': 115.49, 't1': 46.44, 't2': 38.98, 'misc': 30.07}\n",
      "119.23 \t {'rok': 1994, 'plec': 'Kobieta', 'wyksztalcenie': 'wyższe (licencjat, inżynier, magister)', 'q1': -1, 'q2': 0, 'total_time': 119.23, 't1': 40.71, 't2': 57.41, 'misc': 21.11}\n",
      "121.02 \t {'rok': 1996, 'plec': 'Mężczyzna', 'wyksztalcenie': 'średnie', 'q1': -1, 'q2': 1, 'total_time': 121.02, 't1': 48.11, 't2': 49.94, 'misc': 22.97}\n",
      "124.59 \t {'rok': 1995, 'plec': 'Kobieta', 'wyksztalcenie': 'wyższe (licencjat, inżynier, magister)', 'q1': -1, 'q2': -1, 'total_time': 124.59, 't1': 45.48, 't2': 39.93, 'misc': 39.18}\n",
      "128.6 \t {'rok': 1996, 'plec': 'Kobieta', 'wyksztalcenie': 'zasadnicze zawodowe', 'q1': 0, 'q2': 1, 'total_time': 128.6, 't1': 44.34, 't2': 51.36, 'misc': 32.9}\n",
      "130.28 \t {'rok': 1995, 'plec': 'Kobieta', 'wyksztalcenie': 'wyższe (licencjat, inżynier, magister)', 'q1': -2, 'q2': -1, 'total_time': 130.28, 't1': 42.74, 't2': 48.25, 'misc': 39.29}\n",
      "136.87 \t {'rok': 1995, 'plec': 'Kobieta', 'wyksztalcenie': 'wyższe (licencjat, inżynier, magister)', 'q1': -1, 'q2': -1, 'total_time': 136.87, 't1': 42.76, 't2': 60.24, 'misc': 33.87}\n",
      "138.36 \t {'rok': 1995, 'plec': 'Kobieta', 'wyksztalcenie': 'wyższe (licencjat, inżynier, magister)', 'q1': 0, 'q2': 1, 'total_time': 138.36, 't1': 50.5, 't2': 59.1, 'misc': 28.76}\n",
      "140.09 \t {'rok': 1975, 'plec': 'Kobieta', 'wyksztalcenie': 'wyższe (licencjat, inżynier, magister)', 'q1': 0, 'q2': 1, 'total_time': 140.09, 't1': 47.03, 't2': 52.66, 'misc': 40.4}\n",
      "141.77 \t {'rok': 1995, 'plec': 'Kobieta', 'wyksztalcenie': 'wyższe (licencjat, inżynier, magister)', 'q1': -1, 'q2': -1, 'total_time': 141.77, 't1': 63.89, 't2': 55.56, 'misc': 22.32}\n",
      "143.75 \t {'rok': 1998, 'plec': 'Kobieta', 'wyksztalcenie': 'średnie', 'q1': 0, 'q2': 0, 'total_time': 143.75, 't1': 45.62, 't2': 69.84, 'misc': 28.29}\n",
      "150.03 \t {'rok': 1993, 'plec': 'Mężczyzna', 'wyksztalcenie': 'wyższe (licencjat, inżynier, magister)', 'q1': -2, 'q2': 0, 'total_time': 150.03, 't1': 58.3, 't2': 59.51, 'misc': 32.22}\n",
      "153.11 \t {'rok': 1995, 'plec': 'Kobieta', 'wyksztalcenie': 'wyższe (licencjat, inżynier, magister)', 'q1': -2, 'q2': -1, 'total_time': 153.11, 't1': 36.47, 't2': 92.71, 'misc': 23.93}\n",
      "153.46 \t {'rok': 1995, 'plec': 'Mężczyzna', 'wyksztalcenie': 'wyższe (licencjat, inżynier, magister)', 'q1': -2, 'q2': -1, 'total_time': 153.46, 't1': 53.65, 't2': 52.87, 'misc': 46.94}\n",
      "154.83 \t {'rok': 1995, 'plec': 'Kobieta', 'wyksztalcenie': 'wyższe (licencjat, inżynier, magister)', 'q1': -2, 'q2': 0, 'total_time': 154.83, 't1': 31.41, 't2': 105.65, 'misc': 17.77}\n",
      "155.24 \t {'rok': 1994, 'plec': 'Mężczyzna', 'wyksztalcenie': 'wyższe (licencjat, inżynier, magister)', 'q1': 2, 'q2': 2, 'total_time': 155.24, 't1': 64.06, 't2': 45.12, 'misc': 46.06}\n",
      "160.68 \t {'rok': 1969, 'plec': 'Mężczyzna', 'wyksztalcenie': 'wyższe (doktorat lub więcej)', 'q1': -2, 'q2': 0, 'total_time': 160.68, 't1': 56.07, 't2': 64.37, 'misc': 40.24}\n",
      "164.33 \t {'rok': 1994, 'plec': 'Kobieta', 'wyksztalcenie': 'wyższe (licencjat, inżynier, magister)', 'q1': -2, 'q2': 0, 'total_time': 164.33, 't1': 63.38, 't2': 64.29, 'misc': 36.66}\n",
      "164.51 \t {'rok': 1994, 'plec': 'Mężczyzna', 'wyksztalcenie': 'średnie', 'q1': -2, 'q2': 1, 'total_time': 164.51, 't1': 49.22, 't2': 82.13, 'misc': 33.16}\n",
      "165.36 \t {'rok': 1995, 'plec': 'Kobieta', 'wyksztalcenie': 'wyższe (licencjat, inżynier, magister)', 'q1': -2, 'q2': 0, 'total_time': 165.36, 't1': 48.96, 't2': 55.51, 'misc': 60.89}\n",
      "165.49 \t {'rok': 1994, 'plec': 'Kobieta', 'wyksztalcenie': 'wyższe (licencjat, inżynier, magister)', 'q1': 0, 'q2': 0, 'total_time': 165.49, 't1': 90.35, 't2': 40.86, 'misc': 34.28}\n",
      "165.9 \t {'rok': 1995, 'plec': 'Mężczyzna', 'wyksztalcenie': 'wyższe (licencjat, inżynier, magister)', 'q1': -1, 'q2': -1, 'total_time': 165.9, 't1': 60.86, 't2': 61.44, 'misc': 43.6}\n",
      "169.92 \t {'rok': 1995, 'plec': 'Kobieta', 'wyksztalcenie': 'wyższe (licencjat, inżynier, magister)', 'q1': 0, 'q2': 0, 'total_time': 169.92, 't1': 69.86, 't2': 57.16, 'misc': 42.9}\n",
      "186.63 \t {'rok': 1998, 'plec': 'Mężczyzna', 'wyksztalcenie': 'wyższe (licencjat, inżynier, magister)', 'q1': -2, 'q2': -2, 'total_time': 186.63, 't1': 67.69, 't2': 75.29, 'misc': 43.65}\n",
      "214.05 \t {'rok': 1995, 'plec': 'Kobieta', 'wyksztalcenie': 'wyższe (licencjat, inżynier, magister)', 'q1': -2, 'q2': -1, 'total_time': 214.05, 't1': 39.85, 't2': 141.88, 'misc': 32.32}\n",
      "215.4 \t {'rok': 1997, 'plec': 'Mężczyzna', 'wyksztalcenie': 'średnie', 'q1': -1, 'q2': 0, 'total_time': 215.4, 't1': 66.31, 't2': 66.4, 'misc': 82.69}\n",
      "216.43 \t {'rok': 1994, 'plec': 'Kobieta', 'wyksztalcenie': 'wyższe (licencjat, inżynier, magister)', 'q1': -2, 'q2': 1, 'total_time': 216.43, 't1': 182.68, 't2': 4.77, 'misc': 28.98}\n",
      "227.4 \t {'rok': 1996, 'plec': 'Kobieta', 'wyksztalcenie': 'wyższe (licencjat, inżynier, magister)', 'q1': 0, 'q2': 2, 'total_time': 227.4, 't1': 57.24, 't2': 138.04, 'misc': 32.12}\n",
      "229.47 \t {'rok': 1992, 'plec': 'Mężczyzna', 'wyksztalcenie': 'wyższe (licencjat, inżynier, magister)', 'q1': -1, 'q2': 1, 'total_time': 229.47, 't1': 38.15, 't2': 56.1, 'misc': 135.22}\n",
      "301.19 \t {'rok': 1998, 'plec': 'Kobieta', 'wyksztalcenie': 'średnie', 'q1': 0, 'q2': 1, 'total_time': 301.19, 't1': 62.28, 't2': 216.07, 'misc': 22.84}\n",
      "327.8 \t {'rok': 1997, 'plec': 'Kobieta', 'wyksztalcenie': 'wyższe (licencjat, inżynier, magister)', 'q1': 0, 'q2': 0, 'total_time': 327.8, 't1': 221.44, 't2': 65.22, 'misc': 41.14}\n",
      "351.79 \t {'rok': 1986, 'plec': 'Mężczyzna', 'wyksztalcenie': 'wyższe (licencjat, inżynier, magister)', 'q1': -2, 'q2': -1, 'total_time': 351.79, 't1': 233.95, 't2': 90.72, 'misc': 27.12}\n",
      "425.75 \t {'rok': 1976, 'plec': 'Kobieta', 'wyksztalcenie': 'wyższe (licencjat, inżynier, magister)', 'q1': -1, 'q2': 1, 'total_time': 425.75, 't1': 66.25, 't2': 314.19, 'misc': 45.31}\n",
      "458.28 \t {'rok': 1994, 'plec': 'Kobieta', 'wyksztalcenie': 'wyższe (licencjat, inżynier, magister)', 'q1': -2, 'q2': 0, 'total_time': 458.28, 't1': 89.6, 't2': 312.79, 'misc': 55.89}\n",
      "1185.26 \t {'rok': 1995, 'plec': 'Kobieta', 'wyksztalcenie': 'wyższe (licencjat, inżynier, magister)', 'q1': 1, 'q2': 1, 'total_time': 1185.26, 't1': 156.02, 't2': 1014.12, 'misc': 15.12}\n",
      "t-c\n",
      "34.33 \t {'rok': 1996, 'plec': 'Mężczyzna', 'wyksztalcenie': 'wyższe (licencjat, inżynier, magister)', 'q1': 1, 'q2': -1, 'total_time': 34.33, 't1': 15.17, 't2': 8.4, 'misc': 10.76}\n",
      "55.17 \t {'rok': 1992, 'plec': 'Kobieta', 'wyksztalcenie': 'wyższe (licencjat, inżynier, magister)', 'q1': -1, 'q2': -2, 'total_time': 55.17, 't1': 26.12, 't2': 16.27, 'misc': 12.78}\n",
      "69.3 \t {'rok': 1995, 'plec': 'Kobieta', 'wyksztalcenie': 'wyższe (licencjat, inżynier, magister)', 'q1': 0, 'q2': 1, 'total_time': 69.3, 't1': 39.84, 't2': 6.84, 'misc': 22.62}\n",
      "73.69 \t {'rok': 1994, 'plec': 'Kobieta', 'wyksztalcenie': 'wyższe (licencjat, inżynier, magister)', 'q1': 0, 'q2': -1, 'total_time': 73.69, 't1': 39.99, 't2': 20.08, 'misc': 13.62}\n",
      "74.58 \t {'rok': 1995, 'plec': 'Kobieta', 'wyksztalcenie': 'wyższe (licencjat, inżynier, magister)', 'q1': -1, 'q2': -2, 'total_time': 74.58, 't1': 37.09, 't2': 18.8, 'misc': 18.69}\n",
      "76.56 \t {'rok': 1993, 'plec': 'Mężczyzna', 'wyksztalcenie': 'wyższe (licencjat, inżynier, magister)', 'q1': 0, 'q2': -2, 'total_time': 76.56, 't1': 33.49, 't2': 19.06, 'misc': 24.01}\n",
      "78.83 \t {'rok': 1995, 'plec': 'Kobieta', 'wyksztalcenie': 'wyższe (licencjat, inżynier, magister)', 'q1': 1, 'q2': -1, 'total_time': 78.83, 't1': 35.04, 't2': 21.04, 'misc': 22.75}\n",
      "79.88 \t {'rok': 1995, 'plec': 'Kobieta', 'wyksztalcenie': 'wyższe (licencjat, inżynier, magister)', 'q1': 1, 'q2': -2, 'total_time': 79.88, 't1': 40.74, 't2': 18.36, 'misc': 20.78}\n",
      "86.89 \t {'rok': 1995, 'plec': 'Kobieta', 'wyksztalcenie': 'wyższe (licencjat, inżynier, magister)', 'q1': -1, 'q2': 1, 'total_time': 86.89, 't1': 47.17, 't2': 22.41, 'misc': 17.31}\n",
      "92.66 \t {'rok': 1995, 'plec': 'Mężczyzna', 'wyksztalcenie': 'średnie', 'q1': -2, 'q2': -2, 'total_time': 92.66, 't1': 42.76, 't2': 25.28, 'misc': 24.62}\n",
      "94.54 \t {'rok': 1997, 'plec': 'Kobieta', 'wyksztalcenie': 'średnie', 'q1': 2, 'q2': 0, 'total_time': 94.54, 't1': 44.96, 't2': 30.78, 'misc': 18.8}\n",
      "95.28 \t {'rok': 1995, 'plec': 'Kobieta', 'wyksztalcenie': 'wyższe (licencjat, inżynier, magister)', 'q1': 1, 'q2': -1, 'total_time': 95.28, 't1': 38.32, 't2': 32.21, 'misc': 24.75}\n",
      "96.42 \t {'rok': 1975, 'plec': 'Kobieta', 'wyksztalcenie': 'wyższe (licencjat, inżynier, magister)', 'q1': -2, 'q2': -2, 'total_time': 96.42, 't1': 43.23, 't2': 31.39, 'misc': 21.8}\n",
      "96.98 \t {'rok': 1995, 'plec': 'Kobieta', 'wyksztalcenie': 'wyższe (licencjat, inżynier, magister)', 'q1': -1, 'q2': 1, 'total_time': 96.98, 't1': 41.76, 't2': 31.95, 'misc': 23.27}\n",
      "99.82 \t {'rok': 1994, 'plec': 'Kobieta', 'wyksztalcenie': 'wyższe (licencjat, inżynier, magister)', 'q1': 1, 'q2': 0, 'total_time': 99.82, 't1': 45.18, 't2': 26.05, 'misc': 28.59}\n",
      "99.93 \t {'rok': 1995, 'plec': 'Kobieta', 'wyksztalcenie': 'wyższe (licencjat, inżynier, magister)', 'q1': 1, 'q2': -1, 'total_time': 99.93, 't1': 39.11, 't2': 37.99, 'misc': 22.83}\n",
      "100.47 \t {'rok': 1995, 'plec': 'Kobieta', 'wyksztalcenie': 'wyższe (licencjat, inżynier, magister)', 'q1': 1, 'q2': -1, 'total_time': 100.47, 't1': 48.14, 't2': 29.53, 'misc': 22.8}\n",
      "101.44 \t {'rok': 1995, 'plec': 'Kobieta', 'wyksztalcenie': 'wyższe (licencjat, inżynier, magister)', 'q1': -1, 'q2': -2, 'total_time': 101.44, 't1': 58.43, 't2': 24.49, 'misc': 18.52}\n",
      "102.97 \t {'rok': 1995, 'plec': 'Kobieta', 'wyksztalcenie': 'wyższe (licencjat, inżynier, magister)', 'q1': 0, 'q2': -1, 'total_time': 102.97, 't1': 54.33, 't2': 26.2, 'misc': 22.44}\n",
      "103.83 \t {'rok': 1995, 'plec': 'Kobieta', 'wyksztalcenie': 'wyższe (licencjat, inżynier, magister)', 'q1': 0, 'q2': -2, 'total_time': 103.83, 't1': 38.36, 't2': 33.98, 'misc': 31.49}\n",
      "104.21 \t {'rok': 1994, 'plec': 'Mężczyzna', 'wyksztalcenie': 'średnie', 'q1': -1, 'q2': -1, 'total_time': 104.21, 't1': 48.51, 't2': 34.56, 'misc': 21.14}\n",
      "106.8 \t {'rok': 1995, 'plec': 'Kobieta', 'wyksztalcenie': 'wyższe (licencjat, inżynier, magister)', 'q1': 1, 'q2': 0, 'total_time': 106.8, 't1': 40.93, 't2': 42.53, 'misc': 23.34}\n",
      "113.41 \t {'rok': 1995, 'plec': 'Kobieta', 'wyksztalcenie': 'wyższe (licencjat, inżynier, magister)', 'q1': 2, 'q2': -2, 'total_time': 113.41, 't1': 39.88, 't2': 32.61, 'misc': 40.92}\n",
      "114.89 \t {'rok': 1995, 'plec': 'Kobieta', 'wyksztalcenie': 'wyższe (licencjat, inżynier, magister)', 'q1': 2, 'q2': -1, 'total_time': 114.89, 't1': 50.56, 't2': 36.76, 'misc': 27.57}\n",
      "115.92 \t {'rok': 1995, 'plec': 'Kobieta', 'wyksztalcenie': 'wyższe (licencjat, inżynier, magister)', 'q1': -1, 'q2': -1, 'total_time': 115.92, 't1': 66.97, 't2': 28.88, 'misc': 20.07}\n",
      "120.34 \t {'rok': 1995, 'plec': 'Kobieta', 'wyksztalcenie': 'wyższe (licencjat, inżynier, magister)', 'q1': -1, 'q2': -1, 'total_time': 120.34, 't1': 42.51, 't2': 39.78, 'misc': 38.05}\n",
      "124.06 \t {'rok': 1995, 'plec': 'Kobieta', 'wyksztalcenie': 'wyższe (licencjat, inżynier, magister)', 'q1': 0, 'q2': -2, 'total_time': 124.06, 't1': 72.75, 't2': 35.15, 'misc': 16.16}\n",
      "125.78 \t {'rok': 1995, 'plec': 'Kobieta', 'wyksztalcenie': 'wyższe (licencjat, inżynier, magister)', 'q1': 1, 'q2': 0, 'total_time': 125.78, 't1': 49.89, 't2': 46.28, 'misc': 29.61}\n",
      "127.3 \t {'rok': 1995, 'plec': 'Kobieta', 'wyksztalcenie': 'wyższe (licencjat, inżynier, magister)', 'q1': 1, 'q2': -1, 'total_time': 127.3, 't1': 64.16, 't2': 32.28, 'misc': 30.86}\n",
      "128.78 \t {'rok': 1995, 'plec': 'Kobieta', 'wyksztalcenie': 'wyższe (licencjat, inżynier, magister)', 'q1': -1, 'q2': 0, 'total_time': 128.78, 't1': 64.25, 't2': 34.3, 'misc': 30.23}\n",
      "129.89 \t {'rok': 1997, 'plec': 'Kobieta', 'wyksztalcenie': 'średnie', 'q1': 1, 'q2': 0, 'total_time': 129.89, 't1': 51.14, 't2': 37.55, 'misc': 41.2}\n",
      "130.31 \t {'rok': 1995, 'plec': 'Kobieta', 'wyksztalcenie': 'wyższe (licencjat, inżynier, magister)', 'q1': -2, 'q2': -2, 'total_time': 130.31, 't1': 50.03, 't2': 41.53, 'misc': 38.75}\n",
      "130.48 \t {'rok': 1997, 'plec': 'Kobieta', 'wyksztalcenie': 'wyższe (licencjat, inżynier, magister)', 'q1': 2, 'q2': -2, 'total_time': 130.48, 't1': 59.91, 't2': 42.08, 'misc': 28.49}\n",
      "133.73 \t {'rok': 1993, 'plec': 'Kobieta', 'wyksztalcenie': 'wyższe (licencjat, inżynier, magister)', 'q1': 2, 'q2': -2, 'total_time': 133.73, 't1': 59.59, 't2': 53.16, 'misc': 20.98}\n",
      "136.38 \t {'rok': 1995, 'plec': 'Kobieta', 'wyksztalcenie': 'wyższe (licencjat, inżynier, magister)', 'q1': 0, 'q2': -2, 'total_time': 136.38, 't1': 59.31, 't2': 30.88, 'misc': 46.19}\n",
      "136.58 \t {'rok': 1995, 'plec': 'Kobieta', 'wyksztalcenie': 'wyższe (licencjat, inżynier, magister)', 'q1': 0, 'q2': -1, 'total_time': 136.58, 't1': 69.09, 't2': 33.08, 'misc': 34.41}\n",
      "136.94 \t {'rok': 1995, 'plec': 'Kobieta', 'wyksztalcenie': 'wyższe (licencjat, inżynier, magister)', 'q1': 0, 'q2': -2, 'total_time': 136.94, 't1': 73.26, 't2': 29.73, 'misc': 33.95}\n",
      "137.39 \t {'rok': 1995, 'plec': 'Kobieta', 'wyksztalcenie': 'wyższe (licencjat, inżynier, magister)', 'q1': -1, 'q2': -2, 'total_time': 137.39, 't1': 80.19, 't2': 36.66, 'misc': 20.54}\n",
      "140.73 \t {'rok': 1995, 'plec': 'Mężczyzna', 'wyksztalcenie': 'wyższe (licencjat, inżynier, magister)', 'q1': 2, 'q2': 1, 'total_time': 140.73, 't1': 55.81, 't2': 63.49, 'misc': 21.43}\n",
      "141.47 \t {'rok': 1987, 'plec': 'Mężczyzna', 'wyksztalcenie': 'średnie', 'q1': 1, 'q2': -2, 'total_time': 141.47, 't1': 80.64, 't2': 37.77, 'misc': 23.06}\n",
      "145.61 \t {'rok': 1995, 'plec': 'Kobieta', 'wyksztalcenie': 'wyższe (licencjat, inżynier, magister)', 'q1': 0, 'q2': -2, 'total_time': 145.61, 't1': 70.41, 't2': 45.14, 'misc': 30.06}\n",
      "147.91 \t {'rok': 1995, 'plec': 'Kobieta', 'wyksztalcenie': 'wyższe (licencjat, inżynier, magister)', 'q1': 0, 'q2': 0, 'total_time': 147.91, 't1': 89.31, 't2': 41.71, 'misc': 16.89}\n",
      "150.43 \t {'rok': 1996, 'plec': 'Kobieta', 'wyksztalcenie': 'średnie', 'q1': 0, 'q2': 1, 'total_time': 150.43, 't1': 30.67, 't2': 27.03, 'misc': 92.73}\n",
      "157.95 \t {'rok': 1995, 'plec': 'Kobieta', 'wyksztalcenie': 'wyższe (licencjat, inżynier, magister)', 'q1': 1, 'q2': -1, 'total_time': 157.95, 't1': 87.09, 't2': 40.27, 'misc': 30.59}\n",
      "173.87 \t {'rok': 1995, 'plec': 'Mężczyzna', 'wyksztalcenie': 'wyższe (licencjat, inżynier, magister)', 'q1': 2, 'q2': 1, 'total_time': 173.87, 't1': 70.89, 't2': 56.46, 'misc': 46.52}\n",
      "177.36 \t {'rok': 1995, 'plec': 'Mężczyzna', 'wyksztalcenie': 'wyższe (licencjat, inżynier, magister)', 'q1': -1, 'q2': 0, 'total_time': 177.36, 't1': 92.52, 't2': 56.14, 'misc': 28.7}\n",
      "177.44 \t {'rok': 1993, 'plec': 'Mężczyzna', 'wyksztalcenie': 'średnie', 'q1': -1, 'q2': -2, 'total_time': 177.44, 't1': 102.37, 't2': 46.35, 'misc': 28.72}\n",
      "208.21 \t {'rok': 1965, 'plec': 'Kobieta', 'wyksztalcenie': 'wyższe (licencjat, inżynier, magister)', 'q1': 1, 'q2': 1, 'total_time': 208.21, 't1': 107.17, 't2': 58.04, 'misc': 43.0}\n",
      "218.74 \t {'rok': 1992, 'plec': 'Mężczyzna', 'wyksztalcenie': 'wyższe (licencjat, inżynier, magister)', 'q1': 1, 'q2': -1, 'total_time': 218.74, 't1': 130.23, 't2': 73.68, 'misc': 14.83}\n",
      "218.8 \t {'rok': 1995, 'plec': 'Kobieta', 'wyksztalcenie': 'wyższe (licencjat, inżynier, magister)', 'q1': 1, 'q2': 0, 'total_time': 218.8, 't1': 163.66, 't2': 30.41, 'misc': 24.73}\n",
      "333.21 \t {'rok': 1996, 'plec': 'Kobieta', 'wyksztalcenie': 'wyższe (licencjat, inżynier, magister)', 'q1': 1, 'q2': 0, 'total_time': 333.21, 't1': 113.52, 't2': 179.67, 'misc': 40.02}\n",
      "t-ch\n",
      "73.29 \t {'rok': 1995, 'plec': 'Mężczyzna', 'wyksztalcenie': 'wyższe (licencjat, inżynier, magister)', 'q1': 0, 'q2': 1, 'total_time': 73.29, 't1': 30.26, 't2': 25.52, 'misc': 17.51}\n",
      "76.51 \t {'rok': 1994, 'plec': 'Kobieta', 'wyksztalcenie': 'wyższe (licencjat, inżynier, magister)', 'q1': 0, 'q2': 1, 'total_time': 76.51, 't1': 29.84, 't2': 28.88, 'misc': 17.79}\n",
      "82.54 \t {'rok': 1993, 'plec': 'Mężczyzna', 'wyksztalcenie': 'wyższe (licencjat, inżynier, magister)', 'q1': 1, 'q2': 2, 'total_time': 82.54, 't1': 24.94, 't2': 26.6, 'misc': 31.0}\n",
      "94.8 \t {'rok': 1996, 'plec': 'Kobieta', 'wyksztalcenie': 'średnie', 'q1': 2, 'q2': 1, 'total_time': 94.8, 't1': 27.95, 't2': 42.37, 'misc': 24.48}\n",
      "97.51 \t {'rok': 1994, 'plec': 'Mężczyzna', 'wyksztalcenie': 'wyższe (licencjat, inżynier, magister)', 'q1': 2, 'q2': 0, 'total_time': 97.51, 't1': 36.95, 't2': 38.34, 'misc': 22.22}\n",
      "102.87 \t {'rok': 1995, 'plec': 'Kobieta', 'wyksztalcenie': 'wyższe (licencjat, inżynier, magister)', 'q1': 2, 'q2': 2, 'total_time': 102.87, 't1': 50.34, 't2': 30.65, 'misc': 21.88}\n",
      "107.37 \t {'rok': 1995, 'plec': 'Kobieta', 'wyksztalcenie': 'wyższe (licencjat, inżynier, magister)', 'q1': 2, 'q2': 0, 'total_time': 107.37, 't1': 26.39, 't2': 68.64, 'misc': 12.34}\n",
      "109.16 \t {'rok': 1994, 'plec': 'Mężczyzna', 'wyksztalcenie': 'wyższe (licencjat, inżynier, magister)', 'q1': 0, 'q2': -1, 'total_time': 109.16, 't1': 44.52, 't2': 32.63, 'misc': 32.01}\n",
      "112.08 \t {'rok': 1995, 'plec': 'Kobieta', 'wyksztalcenie': 'wyższe (licencjat, inżynier, magister)', 'q1': 1, 'q2': 0, 'total_time': 112.08, 't1': 52.25, 't2': 39.54, 'misc': 20.29}\n",
      "112.86 \t {'rok': 1995, 'plec': 'Kobieta', 'wyksztalcenie': 'wyższe (licencjat, inżynier, magister)', 'q1': 2, 'q2': 2, 'total_time': 112.86, 't1': 47.87, 't2': 42.5, 'misc': 22.49}\n",
      "113.51 \t {'rok': 1995, 'plec': 'Kobieta', 'wyksztalcenie': 'wyższe (licencjat, inżynier, magister)', 'q1': 1, 'q2': 1, 'total_time': 113.51, 't1': 44.06, 't2': 39.66, 'misc': 29.79}\n",
      "113.67 \t {'rok': 1992, 'plec': 'Kobieta', 'wyksztalcenie': 'wyższe (licencjat, inżynier, magister)', 'q1': -1, 'q2': 2, 'total_time': 113.67, 't1': 47.84, 't2': 37.73, 'misc': 28.1}\n",
      "114.36 \t {'rok': 1995, 'plec': 'Kobieta', 'wyksztalcenie': 'wyższe (licencjat, inżynier, magister)', 'q1': 1, 'q2': 2, 'total_time': 114.36, 't1': 56.01, 't2': 34.12, 'misc': 24.23}\n",
      "114.43 \t {'rok': 1995, 'plec': 'Mężczyzna', 'wyksztalcenie': 'wyższe (licencjat, inżynier, magister)', 'q1': 2, 'q2': 2, 'total_time': 114.43, 't1': 56.11, 't2': 41.36, 'misc': 16.96}\n",
      "117.99 \t {'rok': 1994, 'plec': 'Kobieta', 'wyksztalcenie': 'wyższe (licencjat, inżynier, magister)', 'q1': -1, 'q2': 1, 'total_time': 117.99, 't1': 43.76, 't2': 56.25, 'misc': 17.98}\n",
      "118.03 \t {'rok': 1994, 'plec': 'Mężczyzna', 'wyksztalcenie': 'wyższe (licencjat, inżynier, magister)', 'q1': 1, 'q2': 1, 'total_time': 118.03, 't1': 49.49, 't2': 43.7, 'misc': 24.84}\n",
      "118.66 \t {'rok': 1994, 'plec': 'Mężczyzna', 'wyksztalcenie': 'wyższe (licencjat, inżynier, magister)', 'q1': 1, 'q2': 1, 'total_time': 118.66, 't1': 42.64, 't2': 52.29, 'misc': 23.73}\n",
      "119.69 \t {'rok': 1997, 'plec': 'Kobieta', 'wyksztalcenie': 'średnie', 'q1': -1, 'q2': 1, 'total_time': 119.69, 't1': 37.84, 't2': 56.64, 'misc': 25.21}\n",
      "123.92 \t {'rok': 1988, 'plec': 'Kobieta', 'wyksztalcenie': 'wyższe (licencjat, inżynier, magister)', 'q1': 0, 'q2': 2, 'total_time': 123.92, 't1': 57.3, 't2': 32.63, 'misc': 33.99}\n",
      "124.23 \t {'rok': 1995, 'plec': 'Kobieta', 'wyksztalcenie': 'wyższe (licencjat, inżynier, magister)', 'q1': -1, 'q2': 1, 'total_time': 124.23, 't1': 47.75, 't2': 44.99, 'misc': 31.49}\n",
      "124.35 \t {'rok': 1995, 'plec': 'Mężczyzna', 'wyksztalcenie': 'wyższe (licencjat, inżynier, magister)', 'q1': 1, 'q2': 2, 'total_time': 124.35, 't1': 80.32, 't2': 28.98, 'misc': 15.05}\n",
      "125.14 \t {'rok': 1995, 'plec': 'Kobieta', 'wyksztalcenie': 'wyższe (licencjat, inżynier, magister)', 'q1': -1, 'q2': 1, 'total_time': 125.14, 't1': 63.26, 't2': 37.6, 'misc': 24.28}\n",
      "125.93 \t {'rok': 1994, 'plec': 'Kobieta', 'wyksztalcenie': 'wyższe (licencjat, inżynier, magister)', 'q1': 0, 'q2': 1, 'total_time': 125.93, 't1': 49.03, 't2': 46.27, 'misc': 30.63}\n",
      "126.93 \t {'rok': 1991, 'plec': 'Kobieta', 'wyksztalcenie': 'wyższe (licencjat, inżynier, magister)', 'q1': 1, 'q2': 1, 'total_time': 126.93, 't1': 57.82, 't2': 40.29, 'misc': 28.82}\n",
      "127.99 \t {'rok': 1996, 'plec': 'Mężczyzna', 'wyksztalcenie': 'średnie', 'q1': -2, 'q2': 1, 'total_time': 127.99, 't1': 60.47, 't2': 42.89, 'misc': 24.63}\n",
      "129.28 \t {'rok': 1994, 'plec': 'Kobieta', 'wyksztalcenie': 'wyższe (licencjat, inżynier, magister)', 'q1': 1, 'q2': 1, 'total_time': 129.28, 't1': 44.06, 't2': 42.93, 'misc': 42.29}\n",
      "130.22 \t {'rok': 1987, 'plec': 'Mężczyzna', 'wyksztalcenie': 'średnie', 'q1': 0, 'q2': 1, 'total_time': 130.22, 't1': 65.55, 't2': 44.46, 'misc': 20.21}\n",
      "134.32 \t {'rok': 1995, 'plec': 'Kobieta', 'wyksztalcenie': 'wyższe (licencjat, inżynier, magister)', 'q1': 0, 'q2': 1, 'total_time': 134.32, 't1': 38.04, 't2': 55.19, 'misc': 41.09}\n",
      "135.91 \t {'rok': 1995, 'plec': 'Kobieta', 'wyksztalcenie': 'wyższe (licencjat, inżynier, magister)', 'q1': 1, 'q2': 1, 'total_time': 135.91, 't1': 73.34, 't2': 44.32, 'misc': 18.25}\n",
      "138.52 \t {'rok': 1994, 'plec': 'Kobieta', 'wyksztalcenie': 'wyższe (licencjat, inżynier, magister)', 'q1': -1, 'q2': 1, 'total_time': 138.52, 't1': 59.51, 't2': 60.64, 'misc': 18.37}\n",
      "142.07 \t {'rok': 1996, 'plec': 'Mężczyzna', 'wyksztalcenie': 'średnie', 'q1': 0, 'q2': 1, 'total_time': 142.07, 't1': 68.17, 't2': 44.96, 'misc': 28.94}\n",
      "147.04 \t {'rok': 1994, 'plec': 'Kobieta', 'wyksztalcenie': 'wyższe (licencjat, inżynier, magister)', 'q1': 0, 'q2': 1, 'total_time': 147.04, 't1': 63.34, 't2': 56.01, 'misc': 27.69}\n",
      "149.06 \t {'rok': 1994, 'plec': 'Kobieta', 'wyksztalcenie': 'wyższe (licencjat, inżynier, magister)', 'q1': 1, 'q2': 1, 'total_time': 149.06, 't1': 69.64, 't2': 59.01, 'misc': 20.41}\n",
      "153.78 \t {'rok': 1996, 'plec': 'Kobieta', 'wyksztalcenie': 'średnie', 'q1': -1, 'q2': 1, 'total_time': 153.78, 't1': 51.06, 't2': 77.44, 'misc': 25.28}\n",
      "161.78 \t {'rok': 1995, 'plec': 'Mężczyzna', 'wyksztalcenie': 'wyższe (licencjat, inżynier, magister)', 'q1': 1, 'q2': 1, 'total_time': 161.78, 't1': 67.87, 't2': 48.33, 'misc': 45.58}\n",
      "163.38 \t {'rok': 1995, 'plec': 'Kobieta', 'wyksztalcenie': 'wyższe (licencjat, inżynier, magister)', 'q1': -2, 'q2': -1, 'total_time': 163.38, 't1': 76.52, 't2': 54.03, 'misc': 32.83}\n",
      "166.59 \t {'rok': 1995, 'plec': 'Kobieta', 'wyksztalcenie': 'wyższe (licencjat, inżynier, magister)', 'q1': 0, 'q2': 1, 'total_time': 166.59, 't1': 100.7, 't2': 42.09, 'misc': 23.8}\n",
      "171.54 \t {'rok': 1995, 'plec': 'Kobieta', 'wyksztalcenie': 'wyższe (licencjat, inżynier, magister)', 'q1': 1, 'q2': 0, 'total_time': 171.54, 't1': 44.59, 't2': 69.2, 'misc': 57.75}\n",
      "175.85 \t {'rok': 1964, 'plec': 'Kobieta', 'wyksztalcenie': 'wyższe (licencjat, inżynier, magister)', 'q1': 2, 'q2': 0, 'total_time': 175.85, 't1': 68.06, 't2': 74.99, 'misc': 32.8}\n",
      "176.18 \t {'rok': 1996, 'plec': 'Kobieta', 'wyksztalcenie': 'średnie', 'q1': 0, 'q2': 2, 'total_time': 176.18, 't1': 68.46, 't2': 76.03, 'misc': 31.69}\n",
      "176.34 \t {'rok': 1995, 'plec': 'Kobieta', 'wyksztalcenie': 'wyższe (licencjat, inżynier, magister)', 'q1': -1, 'q2': 1, 'total_time': 176.34, 't1': 71.15, 't2': 81.57, 'misc': 23.62}\n",
      "178.89 \t {'rok': 1991, 'plec': 'Mężczyzna', 'wyksztalcenie': 'wyższe (licencjat, inżynier, magister)', 'q1': -1, 'q2': 1, 'total_time': 178.89, 't1': 104.49, 't2': 58.32, 'misc': 16.08}\n",
      "183.77 \t {'rok': 1997, 'plec': 'Kobieta', 'wyksztalcenie': 'średnie', 'q1': 1, 'q2': 2, 'total_time': 183.77, 't1': 99.23, 't2': 54.09, 'misc': 30.45}\n",
      "184.35 \t {'rok': 1995, 'plec': 'Kobieta', 'wyksztalcenie': 'wyższe (licencjat, inżynier, magister)', 'q1': 0, 'q2': 2, 'total_time': 184.35, 't1': 50.47, 't2': 80.65, 'misc': 53.23}\n",
      "188.92 \t {'rok': 1987, 'plec': 'Kobieta', 'wyksztalcenie': 'wyższe (licencjat, inżynier, magister)', 'q1': 1, 'q2': 1, 'total_time': 188.92, 't1': 47.4, 't2': 54.07, 'misc': 87.45}\n",
      "195.2 \t {'rok': 1995, 'plec': 'Kobieta', 'wyksztalcenie': 'wyższe (licencjat, inżynier, magister)', 'q1': 1, 'q2': 1, 'total_time': 195.2, 't1': 120.43, 't2': 47.66, 'misc': 27.11}\n",
      "217.48 \t {'rok': 1996, 'plec': 'Mężczyzna', 'wyksztalcenie': 'średnie', 'q1': 1, 'q2': 2, 'total_time': 217.48, 't1': 116.91, 't2': 72.32, 'misc': 28.25}\n",
      "239.5 \t {'rok': 1996, 'plec': 'Kobieta', 'wyksztalcenie': 'średnie', 'q1': 1, 'q2': 2, 'total_time': 239.5, 't1': 138.08, 't2': 66.31, 'misc': 35.11}\n",
      "264.79 \t {'rok': 1996, 'plec': 'Kobieta', 'wyksztalcenie': 'wyższe (licencjat, inżynier, magister)', 'q1': 1, 'q2': 2, 'total_time': 264.79, 't1': 65.85, 't2': 47.83, 'misc': 151.11}\n",
      "273.27 \t {'rok': 1996, 'plec': 'Kobieta', 'wyksztalcenie': 'wyższe (licencjat, inżynier, magister)', 'q1': 0, 'q2': 1, 'total_time': 273.27, 't1': 162.31, 't2': 81.45, 'misc': 29.51}\n",
      "298.72 \t {'rok': 1996, 'plec': 'Kobieta', 'wyksztalcenie': 'średnie', 'q1': 1, 'q2': -1, 'total_time': 298.72, 't1': 205.54, 't2': 60.07, 'misc': 33.11}\n",
      "421.61 \t {'rok': 1973, 'plec': 'Kobieta', 'wyksztalcenie': 'wyższe (licencjat, inżynier, magister)', 'q1': 0, 'q2': 0, 'total_time': 421.61, 't1': 82.29, 't2': 311.77, 'misc': 27.55}\n",
      "455.36 \t {'rok': 1995, 'plec': 'Mężczyzna', 'wyksztalcenie': 'wyższe (licencjat, inżynier, magister)', 'q1': -1, 'q2': 1, 'total_time': 455.36, 't1': 8.79, 't2': 404.53, 'misc': 42.04}\n",
      "ch-t\n",
      "49.75 \t {'rok': 1995, 'plec': 'Kobieta', 'wyksztalcenie': 'wyższe (licencjat, inżynier, magister)', 'q1': 1, 'q2': -1, 'total_time': 49.75, 't1': 15.96, 't2': 5.71, 'misc': 28.08}\n",
      "80.79 \t {'rok': 1997, 'plec': 'Kobieta', 'wyksztalcenie': 'średnie', 'q1': 2, 'q2': 0, 'total_time': 80.79, 't1': 30.29, 't2': 27.98, 'misc': 22.52}\n",
      "86.39 \t {'rok': 1995, 'plec': 'Mężczyzna', 'wyksztalcenie': 'wyższe (licencjat, inżynier, magister)', 'q1': 0, 'q2': 1, 'total_time': 86.39, 't1': 29.77, 't2': 31.07, 'misc': 25.55}\n",
      "86.8 \t {'rok': 1995, 'plec': 'Kobieta', 'wyksztalcenie': 'wyższe (licencjat, inżynier, magister)', 'q1': 2, 'q2': -1, 'total_time': 86.8, 't1': 32.41, 't2': 41.78, 'misc': 12.61}\n",
      "87.58 \t {'rok': 1994, 'plec': 'Mężczyzna', 'wyksztalcenie': 'wyższe (licencjat, inżynier, magister)', 'q1': 2, 'q2': 2, 'total_time': 87.58, 't1': 39.75, 't2': 30.24, 'misc': 17.59}\n",
      "91.52 \t {'rok': 1995, 'plec': 'Kobieta', 'wyksztalcenie': 'wyższe (licencjat, inżynier, magister)', 'q1': 1, 'q2': -2, 'total_time': 91.52, 't1': 39.7, 't2': 35.93, 'misc': 15.89}\n",
      "93.23 \t {'rok': 1994, 'plec': 'Kobieta', 'wyksztalcenie': 'średnie', 'q1': 2, 'q2': 1, 'total_time': 93.23, 't1': 25.88, 't2': 33.38, 'misc': 33.97}\n",
      "93.77 \t {'rok': 1998, 'plec': 'Mężczyzna', 'wyksztalcenie': 'średnie', 'q1': 0, 'q2': 1, 'total_time': 93.77, 't1': 31.05, 't2': 33.96, 'misc': 28.76}\n",
      "95.39 \t {'rok': 1992, 'plec': 'Mężczyzna', 'wyksztalcenie': 'wyższe (licencjat, inżynier, magister)', 'q1': 1, 'q2': 0, 'total_time': 95.39, 't1': 42.01, 't2': 42.41, 'misc': 10.97}\n",
      "98.93 \t {'rok': 1995, 'plec': 'Kobieta', 'wyksztalcenie': 'wyższe (licencjat, inżynier, magister)', 'q1': 1, 'q2': -1, 'total_time': 98.93, 't1': 45.8, 't2': 31.23, 'misc': 21.9}\n",
      "104.08 \t {'rok': 1995, 'plec': 'Kobieta', 'wyksztalcenie': 'wyższe (licencjat, inżynier, magister)', 'q1': 1, 'q2': -1, 'total_time': 104.08, 't1': 45.73, 't2': 40.32, 'misc': 18.03}\n",
      "104.77 \t {'rok': 1995, 'plec': 'Kobieta', 'wyksztalcenie': 'wyższe (licencjat, inżynier, magister)', 'q1': 0, 'q2': 0, 'total_time': 104.77, 't1': 37.14, 't2': 30.54, 'misc': 37.09}\n",
      "106.59 \t {'rok': 1995, 'plec': 'Kobieta', 'wyksztalcenie': 'wyższe (licencjat, inżynier, magister)', 'q1': 1, 'q2': 0, 'total_time': 106.59, 't1': 60.17, 't2': 26.19, 'misc': 20.23}\n",
      "113.58 \t {'rok': 1995, 'plec': 'Kobieta', 'wyksztalcenie': 'wyższe (licencjat, inżynier, magister)', 'q1': 0, 'q2': -1, 'total_time': 113.58, 't1': 42.29, 't2': 43.48, 'misc': 27.81}\n",
      "114.2 \t {'rok': 1996, 'plec': 'Kobieta', 'wyksztalcenie': 'wyższe (licencjat, inżynier, magister)', 'q1': 0, 'q2': 0, 'total_time': 114.2, 't1': 55.19, 't2': 35.36, 'misc': 23.65}\n",
      "115.28 \t {'rok': 1993, 'plec': 'Kobieta', 'wyksztalcenie': 'średnie', 'q1': 0, 'q2': 0, 'total_time': 115.28, 't1': 54.62, 't2': 36.74, 'misc': 23.92}\n",
      "118.76 \t {'rok': 1995, 'plec': 'Kobieta', 'wyksztalcenie': 'wyższe (licencjat, inżynier, magister)', 'q1': 1, 'q2': -1, 'total_time': 118.76, 't1': 62.18, 't2': 40.75, 'misc': 15.83}\n",
      "121.41 \t {'rok': 1984, 'plec': 'Kobieta', 'wyksztalcenie': 'wyższe (licencjat, inżynier, magister)', 'q1': 1, 'q2': 1, 'total_time': 121.41, 't1': 75.14, 't2': 21.33, 'misc': 24.94}\n",
      "121.49 \t {'rok': 1996, 'plec': 'Kobieta', 'wyksztalcenie': 'średnie', 'q1': 2, 'q2': 2, 'total_time': 121.49, 't1': 45.8, 't2': 31.15, 'misc': 44.54}\n",
      "121.97 \t {'rok': 1994, 'plec': 'Kobieta', 'wyksztalcenie': 'wyższe (licencjat, inżynier, magister)', 'q1': 1, 'q2': 1, 'total_time': 121.97, 't1': 35.1, 't2': 57.74, 'misc': 29.13}\n",
      "121.98 \t {'rok': 1994, 'plec': 'Mężczyzna', 'wyksztalcenie': 'wyższe (licencjat, inżynier, magister)', 'q1': 1, 'q2': -2, 'total_time': 121.98, 't1': 64.77, 't2': 33.34, 'misc': 23.87}\n",
      "124.47 \t {'rok': 1995, 'plec': 'Kobieta', 'wyksztalcenie': 'wyższe (licencjat, inżynier, magister)', 'q1': 2, 'q2': -1, 'total_time': 124.47, 't1': 50.13, 't2': 48.95, 'misc': 25.39}\n",
      "126.72 \t {'rok': 1995, 'plec': 'Kobieta', 'wyksztalcenie': 'wyższe (licencjat, inżynier, magister)', 'q1': 2, 'q2': 1, 'total_time': 126.72, 't1': 59.53, 't2': 38.03, 'misc': 29.16}\n",
      "128.81 \t {'rok': 1994, 'plec': 'Kobieta', 'wyksztalcenie': 'wyższe (licencjat, inżynier, magister)', 'q1': 2, 'q2': 1, 'total_time': 128.81, 't1': 39.54, 't2': 47.54, 'misc': 41.73}\n",
      "128.83 \t {'rok': 1995, 'plec': 'Mężczyzna', 'wyksztalcenie': 'wyższe (licencjat, inżynier, magister)', 'q1': 1, 'q2': -1, 'total_time': 128.83, 't1': 73.55, 't2': 28.36, 'misc': 26.92}\n",
      "136.98 \t {'rok': 1994, 'plec': 'Mężczyzna', 'wyksztalcenie': 'wyższe (licencjat, inżynier, magister)', 'q1': 2, 'q2': 0, 'total_time': 136.98, 't1': 62.5, 't2': 40.7, 'misc': 33.78}\n",
      "149.24 \t {'rok': 1995, 'plec': 'Kobieta', 'wyksztalcenie': 'wyższe (licencjat, inżynier, magister)', 'q1': 2, 'q2': 2, 'total_time': 149.24, 't1': 87.45, 't2': 32.74, 'misc': 29.05}\n",
      "149.87 \t {'rok': 1994, 'plec': 'Mężczyzna', 'wyksztalcenie': 'wyższe (licencjat, inżynier, magister)', 'q1': 1, 'q2': 1, 'total_time': 149.87, 't1': 82.13, 't2': 33.45, 'misc': 34.29}\n",
      "150.02 \t {'rok': 1995, 'plec': 'Mężczyzna', 'wyksztalcenie': 'wyższe (licencjat, inżynier, magister)', 'q1': 0, 'q2': 0, 'total_time': 150.02, 't1': 53.09, 't2': 48.67, 'misc': 48.26}\n",
      "151.93 \t {'rok': 1993, 'plec': 'Mężczyzna', 'wyksztalcenie': 'wyższe (licencjat, inżynier, magister)', 'q1': 0, 'q2': 0, 'total_time': 151.93, 't1': 57.93, 't2': 64.51, 'misc': 29.49}\n",
      "157.9 \t {'rok': 1964, 'plec': 'Kobieta', 'wyksztalcenie': 'wyższe (licencjat, inżynier, magister)', 'q1': 1, 'q2': 1, 'total_time': 157.9, 't1': 84.63, 't2': 50.02, 'misc': 23.25}\n",
      "160.66 \t {'rok': 1994, 'plec': 'Kobieta', 'wyksztalcenie': 'wyższe (licencjat, inżynier, magister)', 'q1': 1, 'q2': 0, 'total_time': 160.66, 't1': 54.38, 't2': 84.48, 'misc': 21.8}\n",
      "161.8 \t {'rok': 1995, 'plec': 'Kobieta', 'wyksztalcenie': 'wyższe (licencjat, inżynier, magister)', 'q1': 0, 'q2': -1, 'total_time': 161.8, 't1': 82.42, 't2': 57.58, 'misc': 21.8}\n",
      "165.2 \t {'rok': 1994, 'plec': 'Mężczyzna', 'wyksztalcenie': 'wyższe (licencjat, inżynier, magister)', 'q1': 1, 'q2': 2, 'total_time': 165.2, 't1': 69.15, 't2': 59.72, 'misc': 36.33}\n",
      "168.04 \t {'rok': 1994, 'plec': 'Kobieta', 'wyksztalcenie': 'wyższe (licencjat, inżynier, magister)', 'q1': 1, 'q2': 1, 'total_time': 168.04, 't1': 88.17, 't2': 59.2, 'misc': 20.67}\n",
      "176.24 \t {'rok': 1994, 'plec': 'Kobieta', 'wyksztalcenie': 'wyższe (licencjat, inżynier, magister)', 'q1': 2, 'q2': 0, 'total_time': 176.24, 't1': 68.12, 't2': 74.15, 'misc': 33.97}\n",
      "178.33 \t {'rok': 1995, 'plec': 'Kobieta', 'wyksztalcenie': 'wyższe (licencjat, inżynier, magister)', 'q1': 1, 'q2': 0, 'total_time': 178.33, 't1': 82.8, 't2': 31.78, 'misc': 63.75}\n",
      "178.78 \t {'rok': 1996, 'plec': 'Mężczyzna', 'wyksztalcenie': 'średnie', 'q1': 0, 'q2': -1, 'total_time': 178.78, 't1': 99.86, 't2': 49.64, 'misc': 29.28}\n",
      "190.96 \t {'rok': 1995, 'plec': 'Kobieta', 'wyksztalcenie': 'wyższe (licencjat, inżynier, magister)', 'q1': 2, 'q2': -2, 'total_time': 190.96, 't1': 117.92, 't2': 55.58, 'misc': 17.46}\n",
      "197.41 \t {'rok': 1994, 'plec': 'Kobieta', 'wyksztalcenie': 'wyższe (licencjat, inżynier, magister)', 'q1': 1, 'q2': 0, 'total_time': 197.41, 't1': 102.92, 't2': 71.04, 'misc': 23.45}\n",
      "198.11 \t {'rok': 1995, 'plec': 'Kobieta', 'wyksztalcenie': 'wyższe (licencjat, inżynier, magister)', 'q1': 0, 'q2': 2, 'total_time': 198.11, 't1': 89.29, 't2': 62.05, 'misc': 46.77}\n",
      "198.36 \t {'rok': 1995, 'plec': 'Kobieta', 'wyksztalcenie': 'wyższe (licencjat, inżynier, magister)', 'q1': 1, 'q2': 1, 'total_time': 198.36, 't1': 112.69, 't2': 62.53, 'misc': 23.14}\n",
      "198.37 \t {'rok': 1996, 'plec': 'Kobieta', 'wyksztalcenie': 'średnie', 'q1': 1, 'q2': 1, 'total_time': 198.37, 't1': 93.55, 't2': 76.17, 'misc': 28.65}\n",
      "198.78 \t {'rok': 1995, 'plec': 'Kobieta', 'wyksztalcenie': 'wyższe (licencjat, inżynier, magister)', 'q1': 0, 'q2': -1, 'total_time': 198.78, 't1': 125.95, 't2': 41.28, 'misc': 31.55}\n",
      "199.84 \t {'rok': 1995, 'plec': 'Mężczyzna', 'wyksztalcenie': 'wyższe (licencjat, inżynier, magister)', 'q1': 1, 'q2': -1, 'total_time': 199.84, 't1': 78.39, 't2': 100.51, 'misc': 20.94}\n",
      "206.78 \t {'rok': 2002, 'plec': 'Kobieta', 'wyksztalcenie': 'gimnazjalne', 'q1': 0, 'q2': -1, 'total_time': 206.78, 't1': 106.55, 't2': 75.25, 'misc': 24.98}\n",
      "207.57 \t {'rok': 1995, 'plec': 'Kobieta', 'wyksztalcenie': 'średnie', 'q1': 2, 'q2': 1, 'total_time': 207.57, 't1': 76.63, 't2': 71.69, 'misc': 59.25}\n",
      "247.59 \t {'rok': 1998, 'plec': 'Kobieta', 'wyksztalcenie': 'średnie', 'q1': 2, 'q2': -2, 'total_time': 247.59, 't1': 109.61, 't2': 108.53, 'misc': 29.45}\n",
      "249.67 \t {'rok': 1995, 'plec': 'Kobieta', 'wyksztalcenie': 'średnie', 'q1': 0, 'q2': 1, 'total_time': 249.67, 't1': 128.83, 't2': 90.18, 'misc': 30.66}\n",
      "270.46 \t {'rok': 1994, 'plec': 'Kobieta', 'wyksztalcenie': 'wyższe (licencjat, inżynier, magister)', 'q1': 1, 'q2': 0, 'total_time': 270.46, 't1': 172.32, 't2': 59.51, 'misc': 38.63}\n",
      "278.69 \t {'rok': 1997, 'plec': 'Mężczyzna', 'wyksztalcenie': 'średnie', 'q1': 0, 'q2': 2, 'total_time': 278.69, 't1': 198.34, 't2': 57.54, 'misc': 22.81}\n",
      "297.68 \t {'rok': 1970, 'plec': 'Kobieta', 'wyksztalcenie': 'wyższe (licencjat, inżynier, magister)', 'q1': 0, 'q2': 0, 'total_time': 297.68, 't1': 113.5, 't2': 142.29, 'misc': 41.89}\n",
      "372.49 \t {'rok': 1997, 'plec': 'Kobieta', 'wyksztalcenie': 'wyższe (licencjat, inżynier, magister)', 'q1': 2, 'q2': 0, 'total_time': 372.49, 't1': 127.96, 't2': 110.38, 'misc': 134.15}\n"
     ]
    }
   ],
   "source": [
    "from operator import itemgetter\n",
    "for group, d in data.items():\n",
    "    print(group)\n",
    "    for interviewee in sorted(d, key=itemgetter('total_time')):\n",
    "        print(interviewee['total_time'],'\\t', interviewee)\n"
   ]
  },
  {
   "cell_type": "code",
   "execution_count": 5,
   "metadata": {},
   "outputs": [
    {
     "name": "stdout",
     "output_type": "stream",
     "text": [
      "c-t\n"
     ]
    },
    {
     "data": {
      "image/png": "[encoded data removed]",
      "text/plain": [
       "<Figure size 432x288 with 1 Axes>"
      ]
     },
     "metadata": {},
     "output_type": "display_data"
    },
    {
     "name": "stdout",
     "output_type": "stream",
     "text": [
      "t-c\n"
     ]
    },
    {
     "data": {
      "image/png": "[encoded data removed]",
      "text/plain": [
       "<Figure size 432x288 with 1 Axes>"
      ]
     },
     "metadata": {},
     "output_type": "display_data"
    },
    {
     "name": "stdout",
     "output_type": "stream",
     "text": [
      "t-ch\n"
     ]
    },
    {
     "data": {
      "image/png": "[encoded data removed]",
      "text/plain": [
       "<Figure size 432x288 with 1 Axes>"
      ]
     },
     "metadata": {},
     "output_type": "display_data"
    },
    {
     "name": "stdout",
     "output_type": "stream",
     "text": [
      "ch-t\n"
     ]
    },
    {
     "data": {
      "image/png": "[encoded data removed]",
      "text/plain": [
       "<Figure size 432x288 with 1 Axes>"
      ]
     },
     "metadata": {},
     "output_type": "display_data"
    },
    {
     "data": {
      "text/plain": [
       "<Figure size 432x288 with 0 Axes>"
      ]
     },
     "metadata": {},
     "output_type": "display_data"
    }
   ],
   "source": [
    "import matplotlib.pyplot as plt\n",
    "import numpy as np\n",
    "\n",
    "for group, d in data.items():\n",
    "    print(group)\n",
    "    x = [interviewee['q1'] for interviewee in d]\n",
    "    y = [interviewee['q2'] for interviewee in d]\n",
    "    \n",
    "    fit = np.polyfit(x,y,1)\n",
    "    fun = np.poly1d(fit)\n",
    "    \n",
    "    plt.plot(x, y, 'yo', x, fun(x), '--k')\n",
    "    plt.show()\n",
    "    plt.clf()"
   ]
  },
  {
   "cell_type": "code",
   "execution_count": 32,
   "metadata": {},
   "outputs": [
    {
     "name": "stdout",
     "output_type": "stream",
     "text": [
      "group           q1      std1          q2      std2\n",
      "-------  ---------  --------  ----------  --------\n",
      "c-t      -0.910714  1.00493    0.0892857  0.96874\n",
      "t-c       0.254902  1.13489   -0.901961   1.05263\n",
      "t-ch      0.377358  1.05018    1.03774    0.776112\n",
      "ch-t      0.981132  0.764558   0.0943396  1.12038\n",
      "group           q1      std1          q2      std2    truetemp\n",
      "-------  ---------  --------  ----------  --------  ----------\n",
      "c-t      -0.910714  1.00493    0.0892857  0.96874    0.0892857\n",
      "ch-t      0.981132  0.764558   0.0943396  1.12038    0.0943396\n",
      "t-c       0.254902  1.13489   -0.901961   1.05263    0.254902\n",
      "t-ch      0.377358  1.05018    1.03774    0.776112   0.377358\n"
     ]
    }
   ],
   "source": [
    "from tabulate import tabulate\n",
    "\n",
    "def position_of_truetemp(group):\n",
    "    stories = group.split('-')\n",
    "    pos = stories.index('t')\n",
    "    return pos, stories[(pos+1)%2]\n",
    "\n",
    "labels = ['group', 'q1', 'std1', 'q2', 'std2']\n",
    "mean_data = []\n",
    "\n",
    "for group, d in data.items():\n",
    "    q1 = [interviewee['q1'] for interviewee in d]\n",
    "    q2 = [interviewee['q2'] for interviewee in d]\n",
    "    \n",
    "    mean_data.append([group, np.mean(q1), np.std(q1), np.mean(q2), np.std(q2)])\n",
    "\n",
    "\n",
    "print(tabulate(mean_data, labels))\n",
    "\n",
    "labels.append('truetemp')\n",
    "for d in mean_data:\n",
    "    pos, _ = position_of_truetemp(d[0])\n",
    "    truetemp = d[1+pos*2]\n",
    "    d.append(truetemp)\n",
    "    \n",
    "mean_data = sorted(mean_data, key=itemgetter(-1))\n",
    "print(tabulate(mean_data, labels))"
   ]
  },
  {
   "cell_type": "code",
   "execution_count": 7,
   "metadata": {},
   "outputs": [],
   "source": [
    "from collections import defaultdict\n",
    "\n",
    "truetemp_pos_data = defaultdict(lambda: [])\n",
    "for group, d in data.items():\n",
    "    truetemp_pos, other = position_of_truetemp(group)\n",
    "    answers = [interviewee['q{}'.format(truetemp_pos+1)] for interviewee in d]\n",
    "    if truetemp_pos:\n",
    "        label = other\n",
    "    else:\n",
    "        label = 'none'\n",
    "    truetemp_pos_data[label] += answers"
   ]
  },
  {
   "cell_type": "code",
   "execution_count": 33,
   "metadata": {},
   "outputs": [
    {
     "name": "stdout",
     "output_type": "stream",
     "text": [
      "preceding      truetemp mean    truetemp std\n",
      "-----------  ---------------  --------------\n",
      "c                  0.0892857        0.938457\n",
      "none               0.317308         1.19739\n",
      "ch                 0.0943396        1.25525\n"
     ]
    },
    {
     "data": {
      "image/png": "[encoded data removed]",
      "text/plain": [
       "<Figure size 432x288 with 1 Axes>"
      ]
     },
     "metadata": {},
     "output_type": "display_data"
    }
   ],
   "source": [
    "import os\n",
    "from config import OUTPUT_PATH\n",
    "\n",
    "labels = ['preceding', 'truetemp mean', 'truetemp std']\n",
    "\n",
    "preceding_data = []\n",
    "for group, answers in truetemp_pos_data.items():\n",
    "    preceding_data.append([group, np.mean(answers), np.var(answers)])\n",
    "\n",
    "print(tabulate(preceding_data, labels))\n",
    "\n",
    "answer = [d[1] for d in preceding_data]\n",
    "std = [d[2] for d in preceding_data]\n",
    "\n",
    "plt.errorbar(range(3), answer, yerr=std, fmt='o', capsize=4)\n",
    "plt.xticks(range(3), ('M-T', 'T-(M/C)', 'C-T'))\n",
    "plt.grid(True)\n",
    "\n",
    "plt.title('Średnia odpowiedź na Truetemp w różnych wersjach ankiety')\n",
    "plt.xlabel('Wersja ankiety\\nM-Moneta, T-Truetemp, C-Chemiczka')\n",
    "plt.ylabel('Średni wynik Truetempa')\n",
    "\n",
    "annotation_positions = ((.1, .1), (.1, .1), (-.53, -.05))\n",
    "for x, y, s, a in zip(range(3), answer, std, annotation_positions):\n",
    "    plt.annotate('{:.3f} $\\pm$ {:.3f}'.format(y, s), xy = [x+a[0],y+a[1]])\n",
    "    \n",
    "plt.ylim(-2, 2)\n",
    "plt.savefig(os.path.join(OUTPUT_PATH, 'mean_truetemp.png'))"
   ]
  },
  {
   "cell_type": "code",
   "execution_count": null,
   "metadata": {},
   "outputs": [],
   "source": []
  }
 ],
 "metadata": {
  "kernelspec": {
   "display_name": "Python 3",
   "language": "python",
   "name": "python3"
  },
  "language_info": {
   "codemirror_mode": {
    "name": "ipython",
    "version": 3
   },
   "file_extension": ".py",
   "mimetype": "text/x-python",
   "name": "python",
   "nbconvert_exporter": "python",
   "pygments_lexer": "ipython3",
   "version": "3.6.3"
  }
 },
 "nbformat": 4,
 "nbformat_minor": 1
}
